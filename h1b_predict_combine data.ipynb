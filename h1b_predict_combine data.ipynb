{
 "cells": [
  {
   "cell_type": "code",
   "execution_count": 548,
   "metadata": {},
   "outputs": [],
   "source": [
    "import numpy as np\n",
    "import pandas as pd\n",
    "from sklearn.model_selection import train_test_split\n",
    "from sklearn.linear_model import LogisticRegression\n",
    "from sklearn.metrics import confusion_matrix, classification_report\n",
    "from statistics import mode\n",
    "from sklearn.feature_selection import SelectKBest\n",
    "from sklearn.feature_selection import chi2\n",
    "import re\n",
    "from xgboost import XGBClassifier\n"
   ]
  },
  {
   "cell_type": "code",
   "execution_count": 549,
   "metadata": {},
   "outputs": [],
   "source": [
    "df_train = pd.read_excel('2018H1B_train.xlsx')"
   ]
  },
  {
   "cell_type": "code",
   "execution_count": 550,
   "metadata": {},
   "outputs": [
    {
     "data": {
      "text/html": [
       "<div>\n",
       "<style scoped>\n",
       "    .dataframe tbody tr th:only-of-type {\n",
       "        vertical-align: middle;\n",
       "    }\n",
       "\n",
       "    .dataframe tbody tr th {\n",
       "        vertical-align: top;\n",
       "    }\n",
       "\n",
       "    .dataframe thead th {\n",
       "        text-align: right;\n",
       "    }\n",
       "</style>\n",
       "<table border=\"1\" class=\"dataframe\">\n",
       "  <thead>\n",
       "    <tr style=\"text-align: right;\">\n",
       "      <th></th>\n",
       "      <th>CASE_STATUS</th>\n",
       "      <th>CASE_SUBMITTED</th>\n",
       "      <th>DECISION_DATE</th>\n",
       "      <th>VISA_CLASS</th>\n",
       "      <th>EMPLOYMENT_START_DATE</th>\n",
       "      <th>EMPLOYMENT_END_DATE</th>\n",
       "      <th>EMPLOYER_CITY</th>\n",
       "      <th>EMPLOYER_STATE</th>\n",
       "      <th>EMPLOYER_POSTAL_CODE</th>\n",
       "      <th>EMPLOYER_COUNTRY</th>\n",
       "      <th>...</th>\n",
       "      <th>PW_SOURCE_OTHER</th>\n",
       "      <th>WAGE_UNIT_OF_PAY</th>\n",
       "      <th>H1B_DEPENDENT</th>\n",
       "      <th>WILLFUL_VIOLATOR</th>\n",
       "      <th>SUPPORT_H1B</th>\n",
       "      <th>LABOR_CON_AGREE</th>\n",
       "      <th>WORKSITE_CITY</th>\n",
       "      <th>WORKSITE_COUNTY</th>\n",
       "      <th>WORKSITE_STATE</th>\n",
       "      <th>ORIGINAL_CERT_DATE</th>\n",
       "    </tr>\n",
       "  </thead>\n",
       "  <tbody>\n",
       "    <tr>\n",
       "      <th>0</th>\n",
       "      <td>CERTIFIED</td>\n",
       "      <td>2018-01-29</td>\n",
       "      <td>2018-02-02</td>\n",
       "      <td>H-1B</td>\n",
       "      <td>2018-07-28</td>\n",
       "      <td>2021-07-27</td>\n",
       "      <td>REDMOND</td>\n",
       "      <td>WA</td>\n",
       "      <td>98052</td>\n",
       "      <td>UNITED STATES OF AMERICA</td>\n",
       "      <td>...</td>\n",
       "      <td>OFLC ONLINE DATA CENTER</td>\n",
       "      <td>Year</td>\n",
       "      <td>N</td>\n",
       "      <td>N</td>\n",
       "      <td>NaN</td>\n",
       "      <td>NaN</td>\n",
       "      <td>REDMOND</td>\n",
       "      <td>KING</td>\n",
       "      <td>WA</td>\n",
       "      <td>NaT</td>\n",
       "    </tr>\n",
       "    <tr>\n",
       "      <th>1</th>\n",
       "      <td>CERTIFIED</td>\n",
       "      <td>2017-10-23</td>\n",
       "      <td>2017-10-27</td>\n",
       "      <td>H-1B</td>\n",
       "      <td>2017-11-06</td>\n",
       "      <td>2020-11-06</td>\n",
       "      <td>SECAUCUS</td>\n",
       "      <td>NJ</td>\n",
       "      <td>07094</td>\n",
       "      <td>UNITED STATES OF AMERICA</td>\n",
       "      <td>...</td>\n",
       "      <td>OFLC ONLINE DATA CENTER</td>\n",
       "      <td>Year</td>\n",
       "      <td>N</td>\n",
       "      <td>N</td>\n",
       "      <td>NaN</td>\n",
       "      <td>NaN</td>\n",
       "      <td>SANTA CLARA</td>\n",
       "      <td>SAN JOSE</td>\n",
       "      <td>CA</td>\n",
       "      <td>NaT</td>\n",
       "    </tr>\n",
       "    <tr>\n",
       "      <th>2</th>\n",
       "      <td>CERTIFIED</td>\n",
       "      <td>2018-08-30</td>\n",
       "      <td>2018-09-06</td>\n",
       "      <td>H-1B</td>\n",
       "      <td>2018-09-10</td>\n",
       "      <td>2021-09-09</td>\n",
       "      <td>IRVING</td>\n",
       "      <td>TX</td>\n",
       "      <td>75062</td>\n",
       "      <td>UNITED STATES OF AMERICA</td>\n",
       "      <td>...</td>\n",
       "      <td>OFLC ONLINE DATA CENTER</td>\n",
       "      <td>Year</td>\n",
       "      <td>N</td>\n",
       "      <td>N</td>\n",
       "      <td>NaN</td>\n",
       "      <td>NaN</td>\n",
       "      <td>IRVING</td>\n",
       "      <td>DALLAS</td>\n",
       "      <td>TX</td>\n",
       "      <td>NaT</td>\n",
       "    </tr>\n",
       "    <tr>\n",
       "      <th>3</th>\n",
       "      <td>CERTIFIED</td>\n",
       "      <td>2018-08-31</td>\n",
       "      <td>2018-09-07</td>\n",
       "      <td>H-1B</td>\n",
       "      <td>2018-09-07</td>\n",
       "      <td>2021-09-06</td>\n",
       "      <td>ISELIN</td>\n",
       "      <td>NJ</td>\n",
       "      <td>08830</td>\n",
       "      <td>UNITED STATES OF AMERICA</td>\n",
       "      <td>...</td>\n",
       "      <td>OFLC ONLINE DATA CENTER</td>\n",
       "      <td>Year</td>\n",
       "      <td>Y</td>\n",
       "      <td>N</td>\n",
       "      <td>Y</td>\n",
       "      <td>Y</td>\n",
       "      <td>BIRMINGHAM</td>\n",
       "      <td>SHELBY</td>\n",
       "      <td>AL</td>\n",
       "      <td>NaT</td>\n",
       "    </tr>\n",
       "    <tr>\n",
       "      <th>4</th>\n",
       "      <td>CERTIFIED</td>\n",
       "      <td>2018-05-22</td>\n",
       "      <td>2018-05-29</td>\n",
       "      <td>H-1B</td>\n",
       "      <td>2018-05-29</td>\n",
       "      <td>2021-05-28</td>\n",
       "      <td>IRVING</td>\n",
       "      <td>TX</td>\n",
       "      <td>75038</td>\n",
       "      <td>UNITED STATES OF AMERICA</td>\n",
       "      <td>...</td>\n",
       "      <td>OFLC ONLINE DATA CENTER</td>\n",
       "      <td>Year</td>\n",
       "      <td>Y</td>\n",
       "      <td>N</td>\n",
       "      <td>Y</td>\n",
       "      <td>NaN</td>\n",
       "      <td>SUNRISE</td>\n",
       "      <td>BROWARD</td>\n",
       "      <td>FL</td>\n",
       "      <td>NaT</td>\n",
       "    </tr>\n",
       "  </tbody>\n",
       "</table>\n",
       "<p>5 rows × 36 columns</p>\n",
       "</div>"
      ],
      "text/plain": [
       "  CASE_STATUS CASE_SUBMITTED DECISION_DATE VISA_CLASS EMPLOYMENT_START_DATE  \\\n",
       "0   CERTIFIED     2018-01-29    2018-02-02       H-1B            2018-07-28   \n",
       "1   CERTIFIED     2017-10-23    2017-10-27       H-1B            2017-11-06   \n",
       "2   CERTIFIED     2018-08-30    2018-09-06       H-1B            2018-09-10   \n",
       "3   CERTIFIED     2018-08-31    2018-09-07       H-1B            2018-09-07   \n",
       "4   CERTIFIED     2018-05-22    2018-05-29       H-1B            2018-05-29   \n",
       "\n",
       "  EMPLOYMENT_END_DATE EMPLOYER_CITY EMPLOYER_STATE EMPLOYER_POSTAL_CODE  \\\n",
       "0          2021-07-27       REDMOND             WA                98052   \n",
       "1          2020-11-06      SECAUCUS             NJ                07094   \n",
       "2          2021-09-09        IRVING             TX                75062   \n",
       "3          2021-09-06        ISELIN             NJ                08830   \n",
       "4          2021-05-28        IRVING             TX                75038   \n",
       "\n",
       "           EMPLOYER_COUNTRY  ...          PW_SOURCE_OTHER WAGE_UNIT_OF_PAY  \\\n",
       "0  UNITED STATES OF AMERICA  ...  OFLC ONLINE DATA CENTER             Year   \n",
       "1  UNITED STATES OF AMERICA  ...  OFLC ONLINE DATA CENTER             Year   \n",
       "2  UNITED STATES OF AMERICA  ...  OFLC ONLINE DATA CENTER             Year   \n",
       "3  UNITED STATES OF AMERICA  ...  OFLC ONLINE DATA CENTER             Year   \n",
       "4  UNITED STATES OF AMERICA  ...  OFLC ONLINE DATA CENTER             Year   \n",
       "\n",
       "   H1B_DEPENDENT  WILLFUL_VIOLATOR  SUPPORT_H1B  LABOR_CON_AGREE  \\\n",
       "0              N                 N          NaN              NaN   \n",
       "1              N                 N          NaN              NaN   \n",
       "2              N                 N          NaN              NaN   \n",
       "3              Y                 N            Y                Y   \n",
       "4              Y                 N            Y              NaN   \n",
       "\n",
       "   WORKSITE_CITY  WORKSITE_COUNTY  WORKSITE_STATE  ORIGINAL_CERT_DATE  \n",
       "0        REDMOND             KING              WA                 NaT  \n",
       "1    SANTA CLARA         SAN JOSE              CA                 NaT  \n",
       "2         IRVING           DALLAS              TX                 NaT  \n",
       "3     BIRMINGHAM           SHELBY              AL                 NaT  \n",
       "4        SUNRISE          BROWARD              FL                 NaT  \n",
       "\n",
       "[5 rows x 36 columns]"
      ]
     },
     "execution_count": 550,
     "metadata": {},
     "output_type": "execute_result"
    }
   ],
   "source": [
    "#data cleaning (dropping some useless variables by intuition lots of them has a lot of missing values which means these are not the request blanks\n",
    "#for applicants to fill in.)\n",
    "\n",
    "df_train_clean = df_train.drop(['CASE_NUMBER','EMPLOYER_NAME','EMPLOYER_BUSINESS_DBA','EMPLOYER_ADDRESS','EMPLOYER_PHONE',\n",
    "                               'EMPLOYER_PHONE_EXT','AGENT_ATTORNEY_NAME','PUBLIC_DISCLOSURE_LOCATION','EMPLOYER_PROVINCE',\n",
    "                               'AGENT_ATTORNEY_CITY','AGENT_ATTORNEY_STATE','WAGE_RATE_OF_PAY_TO','WAGE_RATE_OF_PAY_FROM','WORKSITE_POSTAL_CODE'\n",
    "                               ,'SOC_NAME','JOB_TITLE'], axis=1)\n",
    "\n",
    "df_train_clean.head()"
   ]
  },
  {
   "cell_type": "code",
   "execution_count": 551,
   "metadata": {},
   "outputs": [],
   "source": [
    "#check the case status and since we are aiming predict accept or reject so we re-classifier the status\n",
    "df_train_clean['CASE_STATUS'].value_counts()\n",
    "\n",
    "#binary the result and drop \"withdrawn\" situation\n",
    "binary_result = {\"CASE_STATUS\":       {\"CERTIFIED\": 1, \"CERTIFIED-WITHDRAWN\": 1, \"DENIED\":0}}\n",
    "df_train_clean.replace(binary_result, inplace=True)\n",
    "df_train_clean = df_train_clean[df_train_clean.CASE_STATUS != \"WITHDRAWN\"]"
   ]
  },
  {
   "cell_type": "code",
   "execution_count": 552,
   "metadata": {},
   "outputs": [],
   "source": [
    "#continuing data clearning\n",
    "\n",
    "# keep first two characters of SOC_CODE\n",
    "df_train_clean['SOC_CODE'] = df_train_clean['SOC_CODE'].astype(str).str[:2]\n",
    "\n",
    "#blank situation change to unknown\n",
    "df_train_clean.PW_WAGE_LEVEL.replace(np.nan, 'Unknown',inplace=True)\n",
    "df_train_clean.PW_SOURCE_OTHER.replace(np.nan, 'None',inplace=True)\n",
    "df_train_clean.H1B_DEPENDENT.replace(np.nan, 'Unknown',inplace=True)\n",
    "df_train_clean.WILLFUL_VIOLATOR.replace(np.nan, 'Unknown',inplace=True)\n",
    "df_train_clean.SUPPORT_H1B.replace(np.nan, 'Unknown',inplace=True)\n",
    "df_train_clean.LABOR_CON_AGREE.replace(np.nan, 'Unknown',inplace=True)"
   ]
  },
  {
   "cell_type": "code",
   "execution_count": 553,
   "metadata": {},
   "outputs": [
    {
     "data": {
      "text/plain": [
       "0         112549.00\n",
       "1          79976.00\n",
       "2          77792.00\n",
       "3          87714.00\n",
       "4          71864.00\n",
       "5          92331.00\n",
       "6          80579.00\n",
       "7          88317.00\n",
       "8         104790.00\n",
       "9         109325.00\n",
       "10         82638.00\n",
       "11         69701.00\n",
       "12         65707.00\n",
       "13            30.97\n",
       "14         65999.00\n",
       "15         81780.00\n",
       "16         50700.00\n",
       "17            17.90\n",
       "18            23.68\n",
       "19         67879.00\n",
       "20         58597.00\n",
       "21        126539.00\n",
       "22        110287.00\n",
       "23        123363.00\n",
       "24         75046.00\n",
       "25         56784.00\n",
       "26         75717.00\n",
       "27         53000.00\n",
       "28        125000.00\n",
       "29        116802.00\n",
       "            ...    \n",
       "654247     93475.00\n",
       "654248     96658.00\n",
       "654249        49.85\n",
       "654250     68390.00\n",
       "654251     82326.00\n",
       "654252     49462.00\n",
       "654253     71614.00\n",
       "654254    112320.00\n",
       "654255    150675.00\n",
       "654256     92810.00\n",
       "654257     49795.00\n",
       "654258     67246.00\n",
       "654259     69014.00\n",
       "654260     39978.00\n",
       "654261     87173.00\n",
       "654262     45781.00\n",
       "654263     86653.00\n",
       "654264     78624.00\n",
       "654265     65541.00\n",
       "654266     85259.00\n",
       "654267     53144.00\n",
       "654268     72530.00\n",
       "654269    126547.00\n",
       "654270     67350.00\n",
       "654271     67246.00\n",
       "654272     90646.00\n",
       "654273     68598.00\n",
       "654274     65936.00\n",
       "654275     78416.00\n",
       "654276    133806.00\n",
       "Name: PREVAILING_WAGE, Length: 633000, dtype: float64"
      ]
     },
     "execution_count": 553,
     "metadata": {},
     "output_type": "execute_result"
    }
   ],
   "source": [
    "#drop rows with blank wage or 0 wage\n",
    "df_train_clean = df_train_clean[df_train_clean.PREVAILING_WAGE != np.nan]\n",
    "df_train_clean = df_train_clean[df_train_clean.PREVAILING_WAGE != 0]\n",
    "df_train_clean1 = df_train_clean\n",
    "df_train_clean1['PREVAILING_WAGE'].astype(float)"
   ]
  },
  {
   "cell_type": "code",
   "execution_count": 554,
   "metadata": {},
   "outputs": [],
   "source": [
    "#turn all wages into same unit and then drop unit of pay column\n",
    "df_train_clean1.loc[df_train_clean1.PW_UNIT_OF_PAY == 'Hour', 'PREVAILING_WAGE'] = df_train_clean1.loc[df_train_clean1.PW_UNIT_OF_PAY == 'Hour','PREVAILING_WAGE']*34.4*365/7\n",
    "df_train_clean1.loc[df_train_clean1.PW_UNIT_OF_PAY == 'Week', 'PREVAILING_WAGE'] = df_train_clean1.loc[df_train_clean1.PW_UNIT_OF_PAY == 'Week','PREVAILING_WAGE']*365/7\n",
    "df_train_clean1.loc[df_train_clean1.PW_UNIT_OF_PAY == 'Month', 'PREVAILING_WAGE'] = df_train_clean1.loc[df_train_clean1.PW_UNIT_OF_PAY == 'Month','PREVAILING_WAGE']*12\n",
    "df_train_clean1.loc[df_train_clean1.PW_UNIT_OF_PAY == 'Bi-Weekly', 'PREVAILING_WAGE'] = df_train_clean1.loc[df_train_clean1.PW_UNIT_OF_PAY == 'Bi-Weekly','PREVAILING_WAGE']*365/14"
   ]
  },
  {
   "cell_type": "code",
   "execution_count": 555,
   "metadata": {},
   "outputs": [],
   "source": [
    "# Convert the date into a number (of days since some point)\n",
    "df_train_clean2 = df_train_clean\n",
    "fromDate1 = min(df_train_clean2['CASE_SUBMITTED'])\n",
    "df_train_clean2['CASE_SUBMITTED'] = (df_train_clean2['CASE_SUBMITTED'] - fromDate1).dt.days.astype(int)\n",
    "\n",
    "fromDate2 = min(df_train_clean2['DECISION_DATE'])\n",
    "df_train_clean2['DECISION_DATE'] = (df_train_clean2['DECISION_DATE'] - fromDate2).dt.days.astype(int)\n",
    "\n",
    "fromDate3 = min(df_train_clean2['EMPLOYMENT_START_DATE'])\n",
    "df_train_clean2['EMPLOYMENT_START_DATE'] = (df_train_clean2['EMPLOYMENT_START_DATE'] - fromDate3).dt.days.astype(int)\n",
    "\n",
    "fromDate4 = min(df_train_clean2['EMPLOYMENT_END_DATE'])\n",
    "df_train_clean2['EMPLOYMENT_END_DATE'] = (df_train_clean2['EMPLOYMENT_END_DATE'] - fromDate4).dt.days.astype(int)"
   ]
  },
  {
   "cell_type": "code",
   "execution_count": 556,
   "metadata": {},
   "outputs": [
    {
     "name": "stdout",
     "output_type": "stream",
     "text": [
      "291970.0\n"
     ]
    },
    {
     "data": {
      "text/plain": [
       "81266.0"
      ]
     },
     "execution_count": 556,
     "metadata": {},
     "output_type": "execute_result"
    }
   ],
   "source": [
    "##to check the percentile in wages\n",
    "print(np.nanpercentile(df_train_clean2.PREVAILING_WAGE,99.95))\n",
    "df_train_clean2.PREVAILING_WAGE.median()"
   ]
  },
  {
   "cell_type": "code",
   "execution_count": 557,
   "metadata": {},
   "outputs": [],
   "source": [
    "## replacing min and max with 99.95percentail\n",
    "df_train_clean2.loc[df_train_clean2['PREVAILING_WAGE'] > 291970.0, 'PREVAILING_WAGE']= 81266.0\n",
    "df_train_clean2.PREVAILING_WAGE.fillna(df_train_clean2.PREVAILING_WAGE.mean(), inplace = True)"
   ]
  },
  {
   "cell_type": "code",
   "execution_count": 558,
   "metadata": {},
   "outputs": [
    {
     "data": {
      "text/plain": [
       "PREVAILING_WAGE\n",
       "4500.000000      1\n",
       "6413.571429      1\n",
       "11000.000000     1\n",
       "13004.428571     6\n",
       "13022.365714     7\n",
       "13542.542857     5\n",
       "13632.228571     1\n",
       "14170.342857     2\n",
       "14349.714286     2\n",
       "14618.771429     1\n",
       "14654.645714     1\n",
       "14780.205714     3\n",
       "15031.325714     1\n",
       "15147.000000     1\n",
       "15246.571429     3\n",
       "15504.000000     1\n",
       "15514.000000     1\n",
       "15515.628571     1\n",
       "15547.000000     1\n",
       "15650.000000     1\n",
       "15695.000000     2\n",
       "15712.937143     1\n",
       "15748.811429     3\n",
       "15910.245714     1\n",
       "15928.182857     1\n",
       "15946.120000     1\n",
       "16017.868571     1\n",
       "16053.742857     2\n",
       "16143.428571     2\n",
       "16538.045714     1\n",
       "                ..\n",
       "284045.000000    1\n",
       "284170.000000    1\n",
       "284274.000000    1\n",
       "284378.000000    1\n",
       "284419.000000    1\n",
       "284731.000000    4\n",
       "285106.000000    1\n",
       "285189.000000    1\n",
       "285293.000000    4\n",
       "285480.000000    1\n",
       "285646.000000    1\n",
       "285958.000000    3\n",
       "286000.000000    1\n",
       "286998.000000    4\n",
       "287462.000000    1\n",
       "287498.000000    2\n",
       "287518.000000    1\n",
       "287560.000000    1\n",
       "287602.000000    1\n",
       "287643.000000    1\n",
       "288184.000000    1\n",
       "288517.000000    1\n",
       "288891.000000    1\n",
       "289099.000000    2\n",
       "289505.000000    1\n",
       "290493.000000    6\n",
       "290784.000000    5\n",
       "291325.000000    2\n",
       "291512.000000    1\n",
       "291970.000000    4\n",
       "Length: 26652, dtype: int64"
      ]
     },
     "execution_count": 558,
     "metadata": {},
     "output_type": "execute_result"
    }
   ],
   "source": [
    "# check the range of wage\n",
    "df_train_clean2.groupby(\"PREVAILING_WAGE\").size()"
   ]
  },
  {
   "cell_type": "code",
   "execution_count": 560,
   "metadata": {},
   "outputs": [],
   "source": [
    "# convert all the str variable into numerical verison\n",
    "from sklearn.preprocessing import LabelEncoder\n",
    "df_train_clean2[\"VISA_CLASS\"]=LabelEncoder().fit_transform(df_train_clean2[\"VISA_CLASS\"])\n",
    "df_train_clean2[\"EMPLOYER_STATE\"]=LabelEncoder().fit_transform(df_train_clean2[\"EMPLOYER_STATE\"].astype(str))\n",
    "df_train_clean2[\"EMPLOYER_CITY\"]=LabelEncoder().fit_transform(df_train_clean2[\"EMPLOYER_CITY\"].astype(str))\n",
    "df_train_clean2[\"EMPLOYER_POSTAL_CODE\"]=LabelEncoder().fit_transform(df_train_clean2[\"EMPLOYER_POSTAL_CODE\"].astype(str))\n",
    "df_train_clean2[\"EMPLOYER_COUNTRY\"]=LabelEncoder().fit_transform(df_train_clean2[\"EMPLOYER_COUNTRY\"])\n",
    "df_train_clean2[\"AGENT_REPRESENTING_EMPLOYER\"]=LabelEncoder().fit_transform(df_train_clean2[\"AGENT_REPRESENTING_EMPLOYER\"].astype(str))\n",
    "df_train_clean2[\"SOC_CODE\"]=LabelEncoder().fit_transform(df_train_clean2[\"SOC_CODE\"])\n",
    "df_train_clean2[\"WAGE_UNIT_OF_PAY\"]=LabelEncoder().fit_transform(df_train_clean2[\"WAGE_UNIT_OF_PAY\"].astype(str))\n",
    "df_train_clean2[\"PW_UNIT_OF_PAY\"]=LabelEncoder().fit_transform(df_train_clean2[\"PW_UNIT_OF_PAY\"].astype(str))\n",
    "df_train_clean2[\"PW_WAGE_LEVEL\"]=LabelEncoder().fit_transform(df_train_clean2[\"PW_WAGE_LEVEL\"].astype(str))\n",
    "df_train_clean2[\"PW_SOURCE\"]=LabelEncoder().fit_transform(df_train_clean2[\"PW_SOURCE\"].astype(str))\n",
    "df_train_clean2[\"PW_SOURCE_YEAR\"]=LabelEncoder().fit_transform(df_train_clean2[\"PW_SOURCE_YEAR\"].astype(str))\n",
    "df_train_clean2[\"PW_SOURCE_OTHER\"]=LabelEncoder().fit_transform(df_train_clean2[\"PW_SOURCE_OTHER\"].astype(str))\n",
    "df_train_clean2[\"H1B_DEPENDENT\"]=LabelEncoder().fit_transform(df_train_clean2[\"H1B_DEPENDENT\"].astype(str))\n",
    "df_train_clean2[\"WILLFUL_VIOLATOR\"]=LabelEncoder().fit_transform(df_train_clean2[\"WILLFUL_VIOLATOR\"].astype(str))\n",
    "df_train_clean2[\"SUPPORT_H1B\"]=LabelEncoder().fit_transform(df_train_clean2[\"SUPPORT_H1B\"].astype(str))\n",
    "df_train_clean2[\"LABOR_CON_AGREE\"]=LabelEncoder().fit_transform(df_train_clean2[\"LABOR_CON_AGREE\"].astype(str))\n",
    "df_train_clean2[\"WORKSITE_CITY\"]=LabelEncoder().fit_transform(df_train_clean2[\"WORKSITE_CITY\"].astype(str))\n",
    "df_train_clean2[\"WORKSITE_COUNTY\"]=LabelEncoder().fit_transform(df_train_clean2[\"WORKSITE_COUNTY\"].astype(str))\n",
    "df_train_clean2[\"WORKSITE_STATE\"]=LabelEncoder().fit_transform(df_train_clean2[\"WORKSITE_STATE\"].astype(str))\n",
    "df1 = df_train_clean2.copy()\n"
   ]
  },
  {
   "cell_type": "code",
   "execution_count": 562,
   "metadata": {},
   "outputs": [],
   "source": [
    "#Now we start run some basic models such as logistic and linear regression to determine drop some useless variables\n",
    "\n",
    "# set a threshold by using logistic regression and then dropping these columns\n",
    "df1 = df1.drop('ORIGINAL_CERT_DATE', axis = 1)\n",
    "df1 = df1.drop('WORKSITE_COUNTY', axis = 1)\n",
    "df1 = df1.drop('EMPLOYER_POSTAL_CODE', axis = 1)\n",
    "df1 = df1.drop('NEW_CONCURRENT_EMP', axis = 1)\n",
    "df1 = df1.drop('VISA_CLASS', axis = 1)\n",
    "df1 = df1.drop('CHANGE_PREVIOUS_EMPLOYMENT', axis = 1)\n",
    "df1 = df1.drop('H1B_DEPENDENT', axis = 1)\n",
    "df1 = df1.drop('WILLFUL_VIOLATOR', axis = 1)\n",
    "df1 = df1.drop('SUPPORT_H1B', axis = 1)\n",
    "df1 = df1.drop('LABOR_CON_AGREE', axis = 1)"
   ]
  },
  {
   "cell_type": "code",
   "execution_count": 563,
   "metadata": {},
   "outputs": [],
   "source": [
    "## Filling na in these columns with mode\n",
    "df1['EMPLOYER_CITY'] = df1['EMPLOYER_CITY'].fillna(df1['EMPLOYER_CITY'].mode()[0])\n",
    "df1['AGENT_REPRESENTING_EMPLOYER'] = df1['AGENT_REPRESENTING_EMPLOYER'].fillna(df1['AGENT_REPRESENTING_EMPLOYER'].mode()[0])\n",
    "df1['FULL_TIME_POSITION'] = df1['FULL_TIME_POSITION'].fillna(df1['FULL_TIME_POSITION'].mode()[0])\n",
    "df1['WAGE_UNIT_OF_PAY'] = df1['WAGE_UNIT_OF_PAY'].fillna(df1['WAGE_UNIT_OF_PAY'].mode()[0])\n",
    "df1['WORKSITE_CITY'] = df1['WORKSITE_CITY'].fillna(df1['WORKSITE_CITY'].mode()[0])"
   ]
  },
  {
   "cell_type": "code",
   "execution_count": 564,
   "metadata": {},
   "outputs": [
    {
     "name": "stdout",
     "output_type": "stream",
     "text": [
      "<class 'pandas.core.frame.DataFrame'>\n",
      "Int64Index: 633000 entries, 0 to 654276\n",
      "Data columns (total 26 columns):\n",
      "CASE_STATUS                    633000 non-null int64\n",
      "CASE_SUBMITTED                 633000 non-null int64\n",
      "DECISION_DATE                  633000 non-null int64\n",
      "EMPLOYMENT_START_DATE          633000 non-null int64\n",
      "EMPLOYMENT_END_DATE            633000 non-null int64\n",
      "EMPLOYER_CITY                  633000 non-null int64\n",
      "EMPLOYER_STATE                 633000 non-null int64\n",
      "EMPLOYER_COUNTRY               633000 non-null int64\n",
      "AGENT_REPRESENTING_EMPLOYER    633000 non-null int64\n",
      "SOC_CODE                       633000 non-null int64\n",
      "NAICS_CODE                     633000 non-null int64\n",
      "TOTAL_WORKERS                  633000 non-null int64\n",
      "NEW_EMPLOYMENT                 633000 non-null int64\n",
      "CONTINUED_EMPLOYMENT           633000 non-null int64\n",
      "CHANGE_EMPLOYER                633000 non-null int64\n",
      "AMENDED_PETITION               633000 non-null int64\n",
      "FULL_TIME_POSITION             633000 non-null int64\n",
      "PREVAILING_WAGE                633000 non-null float64\n",
      "PW_UNIT_OF_PAY                 633000 non-null int64\n",
      "PW_WAGE_LEVEL                  633000 non-null int64\n",
      "PW_SOURCE                      633000 non-null int64\n",
      "PW_SOURCE_YEAR                 633000 non-null int64\n",
      "PW_SOURCE_OTHER                633000 non-null int64\n",
      "WAGE_UNIT_OF_PAY               633000 non-null int64\n",
      "WORKSITE_CITY                  633000 non-null int64\n",
      "WORKSITE_STATE                 633000 non-null int64\n",
      "dtypes: float64(1), int64(25)\n",
      "memory usage: 130.4 MB\n"
     ]
    }
   ],
   "source": [
    "#change these two variables into category data\n",
    "df1[\"CASE_STATUS\"]=LabelEncoder().fit_transform(df1[\"CASE_STATUS\"].astype('category'))\n",
    "df1[\"FULL_TIME_POSITION\"]=LabelEncoder().fit_transform(df1[\"FULL_TIME_POSITION\"].astype('category'))\n",
    "df1.info()"
   ]
  },
  {
   "cell_type": "code",
   "execution_count": 565,
   "metadata": {},
   "outputs": [
    {
     "name": "stdout",
     "output_type": "stream",
     "text": [
      "                  Specs         Score\n",
      "10           NAICS_CODE  7.429285e+08\n",
      "17      PREVAILING_WAGE  7.088697e+08\n",
      "24        WORKSITE_CITY  1.788924e+08\n",
      "5         EMPLOYER_CITY  2.351910e+07\n",
      "25       WORKSITE_STATE  7.219348e+06\n",
      "6        EMPLOYER_STATE  1.653887e+06\n",
      "22      PW_SOURCE_OTHER  2.312307e+05\n",
      "9              SOC_CODE  3.852597e+04\n",
      "11        TOTAL_WORKERS  3.651193e+04\n",
      "2         DECISION_DATE  3.001518e+04\n",
      "4   EMPLOYMENT_END_DATE  2.231370e+04\n",
      "12       NEW_EMPLOYMENT  2.184035e+04\n",
      "14      CHANGE_EMPLOYER  1.332270e+04\n",
      "19        PW_WAGE_LEVEL  1.031336e+04\n",
      "1        CASE_SUBMITTED  8.515474e+03\n"
     ]
    }
   ],
   "source": [
    "#Here we are doing feature selection\n",
    "\n",
    "X_1 = df1.iloc[:,0:26]  #independent columns\n",
    "y_1 = df1.iloc[:,-1]    #target column \n",
    "\n",
    "#apply SelectKBest class to extract top 10 best features\n",
    "bestfeatures = SelectKBest(score_func=chi2, k=15)\n",
    "fit = bestfeatures.fit(X_1,y_1)\n",
    "dfscores = pd.DataFrame(fit.scores_)\n",
    "dfcolumns = pd.DataFrame(X_1.columns)\n",
    "#concat two dataframes for better visualization \n",
    "featureScores = pd.concat([dfcolumns,dfscores],axis=1)\n",
    "featureScores.columns = ['Specs','Score']  #naming the dataframe columns\n",
    "print(featureScores.nlargest(15,'Score'))  #print 15 best features\n"
   ]
  },
  {
   "cell_type": "code",
   "execution_count": 566,
   "metadata": {},
   "outputs": [
    {
     "name": "stdout",
     "output_type": "stream",
     "text": [
      "<class 'pandas.core.frame.DataFrame'>\n",
      "Int64Index: 633000 entries, 0 to 654276\n",
      "Data columns (total 16 columns):\n",
      "CASE_STATUS            633000 non-null int64\n",
      "NAICS_CODE             633000 non-null int64\n",
      "PREVAILING_WAGE        633000 non-null float64\n",
      "WORKSITE_CITY          633000 non-null int64\n",
      "EMPLOYER_CITY          633000 non-null int64\n",
      "WORKSITE_STATE         633000 non-null int64\n",
      "PW_SOURCE_OTHER        633000 non-null int64\n",
      "EMPLOYER_STATE         633000 non-null int64\n",
      "SOC_CODE               633000 non-null int64\n",
      "TOTAL_WORKERS          633000 non-null int64\n",
      "DECISION_DATE          633000 non-null int64\n",
      "EMPLOYMENT_END_DATE    633000 non-null int64\n",
      "NEW_EMPLOYMENT         633000 non-null int64\n",
      "CHANGE_EMPLOYER        633000 non-null int64\n",
      "PW_WAGE_LEVEL          633000 non-null int64\n",
      "CASE_SUBMITTED         633000 non-null int64\n",
      "dtypes: float64(1), int64(15)\n",
      "memory usage: 82.1 MB\n"
     ]
    }
   ],
   "source": [
    "# feature selection with 15 best features\n",
    "df2 = df1[['CASE_STATUS','NAICS_CODE','PREVAILING_WAGE','WORKSITE_CITY','EMPLOYER_CITY','WORKSITE_STATE','PW_SOURCE_OTHER','EMPLOYER_STATE',\n",
    "          'SOC_CODE','TOTAL_WORKERS','DECISION_DATE','EMPLOYMENT_END_DATE','NEW_EMPLOYMENT','CHANGE_EMPLOYER',\n",
    "           'PW_WAGE_LEVEL','CASE_SUBMITTED']]\n",
    "df2.info()"
   ]
  },
  {
   "cell_type": "code",
   "execution_count": 567,
   "metadata": {},
   "outputs": [
    {
     "data": {
      "text/plain": [
       "Text(0.5, 1.0, 'Distribution of Labels/Classes in the Dataset')"
      ]
     },
     "execution_count": 567,
     "metadata": {},
     "output_type": "execute_result"
    },
    {
     "data": {
      "image/png": "[encoded data removed]",
      "text/plain": [
       "<Figure size 432x288 with 1 Axes>"
      ]
     },
     "metadata": {
      "needs_background": "light"
     },
     "output_type": "display_data"
    }
   ],
   "source": [
    "# A graph to show us how implance our data was\n",
    "# Getting the no. of instances with Label 0\n",
    "n_class_0 = df3[df3['CASE_STATUS']==0].shape[0]\n",
    "# Getting the no. of instances with label 1\n",
    "n_class_1 = df3[df3['CASE_STATUS']==1].shape[0]\n",
    "# Bar Visualization of Class Distribution\n",
    "import matplotlib.pyplot as plt # required library\n",
    "x_2 = ['0', '1']\n",
    "y_2 = np.array([n_class_0, n_class_1])\n",
    "plt.bar(x_2, y_2)\n",
    "plt.xlabel('Labels/Classes')\n",
    "plt.ylabel('Number of Instances')\n",
    "plt.title('Distribution of Labels/Classes in the Dataset')"
   ]
  },
  {
   "cell_type": "code",
   "execution_count": 607,
   "metadata": {},
   "outputs": [
    {
     "name": "stdout",
     "output_type": "stream",
     "text": [
      "[(0, 8554), (1, 8554)]\n"
     ]
    },
    {
     "data": {
      "text/plain": [
       "array([[2.38210000e+04, 1.32101278e-01, 5.36000000e+03, ...,\n",
       "        0.00000000e+00, 1.00000000e+00, 2.63900000e+03],\n",
       "       [5.41511000e+05, 2.45402999e-01, 1.29700000e+03, ...,\n",
       "        0.00000000e+00, 1.00000000e+00, 2.63900000e+03],\n",
       "       [3.33600000e+03, 1.81876370e-01, 1.49300000e+03, ...,\n",
       "        0.00000000e+00, 1.00000000e+00, 2.63900000e+03],\n",
       "       ...,\n",
       "       [5.23110000e+05, 4.47493652e-01, 4.73400000e+03, ...,\n",
       "        0.00000000e+00, 2.00000000e+00, 2.63200000e+03],\n",
       "       [5.41600000e+03, 2.55967579e-01, 5.23100000e+03, ...,\n",
       "        0.00000000e+00, 1.00000000e+00, 2.65000000e+03],\n",
       "       [5.41330000e+05, 3.70000348e-01, 4.30700000e+03, ...,\n",
       "        0.00000000e+00, 1.00000000e+00, 2.63500000e+03]])"
      ]
     },
     "execution_count": 607,
     "metadata": {},
     "output_type": "execute_result"
    }
   ],
   "source": [
    "#start dealing with imbalance data, first we try undersampling\n",
    "from collections import Counter\n",
    "from imblearn.under_sampling import RandomUnderSampler\n",
    "rus = RandomUnderSampler(random_state=0)\n",
    "X_resampled, y_resampled = rus.fit_resample(df3.loc[:, df3.columns != 'CASE_STATUS'],df3[\"CASE_STATUS\"])\n",
    "print(sorted(Counter(y_resampled).items()))\n",
    "y_resampled\n",
    "X_resampled"
   ]
  },
  {
   "cell_type": "code",
   "execution_count": 636,
   "metadata": {},
   "outputs": [
    {
     "name": "stdout",
     "output_type": "stream",
     "text": [
      "[(0, 599735), (1, 561135)]\n"
     ]
    }
   ],
   "source": [
    "# here is the method of combination of over-under sampling\n",
    "from collections import Counter\n",
    "from sklearn.datasets import make_classification\n",
    "from imblearn.combine import SMOTEENN\n",
    "smote_enn = SMOTEENN(random_state=0)\n",
    "X_resampled, y_resampled = smote_enn.fit_resample(df2.loc[:, df2.columns != 'CASE_STATUS'],df2[\"CASE_STATUS\"])\n",
    "print(sorted(Counter(y_resampled).items()))"
   ]
  },
  {
   "cell_type": "code",
   "execution_count": 637,
   "metadata": {},
   "outputs": [],
   "source": [
    "# split into training, validation and test sets for balanced data\n",
    "\n",
    "X_train, X_test, y_train, y_test = train_test_split(X_resampled, y_resampled,\n",
    "                                                    test_size = 0.3,\n",
    "                                                    random_state=123,\n",
    "                                                    stratify=y_resampled)\n"
   ]
  },
  {
   "cell_type": "code",
   "execution_count": 638,
   "metadata": {},
   "outputs": [
    {
     "name": "stdout",
     "output_type": "stream",
     "text": [
      "0.949117327249702\n"
     ]
    }
   ],
   "source": [
    "# First try kNN(k nearest neighbour algorithm)\n",
    "from sklearn.neighbors import KNeighborsClassifier\n",
    "from sklearn.preprocessing import MinMaxScaler\n",
    "from sklearn.metrics import accuracy_score\n",
    "\n",
    "knn_model = KNeighborsClassifier(n_neighbors=10)\n",
    "knn_model.fit(X_train, y_train)\n",
    "\n",
    "y_pred = knn_model.predict(X_test)\n",
    "# Checking the model's accuracy\n",
    "#accuracy_score(y_test,y_pred)\n",
    "# Checking the model's auc\n",
    "auc = roc_auc_score(y_test, y_pred)\n",
    "print(auc)"
   ]
  },
  {
   "cell_type": "code",
   "execution_count": 639,
   "metadata": {},
   "outputs": [
    {
     "name": "stdout",
     "output_type": "stream",
     "text": [
      "0.949117327249702\n"
     ]
    },
    {
     "data": {
      "image/png": "[encoded data removed]",
      "text/plain": [
       "<Figure size 432x288 with 1 Axes>"
      ]
     },
     "metadata": {
      "needs_background": "light"
     },
     "output_type": "display_data"
    }
   ],
   "source": [
    "#auc graph\n",
    "fpr_xg, tpr_xg, thresholds = metrics.roc_curve(y_test, y_pred)\n",
    "print(metrics.auc(fpr_xg, tpr_xg))\n",
    "auc_xgb = np.trapz(tpr_xg,fpr_xg)\n",
    "plt.plot(fpr_xg,tpr_xg,label=\" auc=\"+str(auc_xgb))\n",
    "plt.legend(loc=4)\n",
    "plt.show()\n",
    "\n"
   ]
  },
  {
   "cell_type": "code",
   "execution_count": 640,
   "metadata": {},
   "outputs": [
    {
     "name": "stdout",
     "output_type": "stream",
     "text": [
      "[0.95244072 0.99640469 0.9966552  0.99651784 0.99657394]\n",
      "0.987718477811734\n"
     ]
    }
   ],
   "source": [
    "# applying cross validation for evaluating estimator performance\n",
    "from sklearn.model_selection import cross_val_score \n",
    "\n",
    "scores = cross_val_score(knn_model, X_resampled, y_resampled, cv=5, scoring='roc_auc')\n",
    "\n",
    "\n",
    "print(scores)\n",
    "print(scores.mean())"
   ]
  },
  {
   "cell_type": "code",
   "execution_count": 641,
   "metadata": {},
   "outputs": [],
   "source": [
    "# feature scaling on kNN\n",
    "# Importing MinMaxScaler and initializing it\n",
    "from sklearn.preprocessing import MinMaxScaler\n",
    "min_max=MinMaxScaler()\n",
    "# Scaling down both train and test data set\n",
    "X_train_minmax=min_max.fit_transform(X_train)\n",
    "X_test_minmax=min_max.fit_transform(X_test)"
   ]
  },
  {
   "cell_type": "code",
   "execution_count": 642,
   "metadata": {},
   "outputs": [
    {
     "name": "stdout",
     "output_type": "stream",
     "text": [
      "0.5\n"
     ]
    }
   ],
   "source": [
    "# Fitting k-NN on our scaled data set\n",
    "knn=KNeighborsClassifier(n_neighbors=5)\n",
    "knn.fit(X_train_minmax,y_train)\n",
    "\n",
    "y_pred = knn_model.predict(X_test_minmax)\n",
    "# Checking the model's accuracy\n",
    "#accuracy_score(y_test,y_pred)\n",
    "auc = roc_auc_score(y_test, y_pred)\n",
    "print(auc)"
   ]
  },
  {
   "cell_type": "code",
   "execution_count": 643,
   "metadata": {},
   "outputs": [
    {
     "name": "stdout",
     "output_type": "stream",
     "text": [
      "Accuracy: 0.9968759062886743\n",
      "0.9969211991920811\n"
     ]
    }
   ],
   "source": [
    "# Random Forest for balanced data\n",
    "from sklearn.ensemble import RandomForestClassifier     \n",
    "from sklearn.metrics import roc_auc_score\n",
    "\n",
    "forest_b = RandomForestClassifier(n_estimators=100, random_state=123)\n",
    "forest_b.fit(X_train, y_train);\n",
    "\n",
    "y_pred_b = forest_b.predict(X_test)\n",
    "from sklearn import metrics\n",
    "# Model Accuracy, how often is the classifier correct?\n",
    "print(\"Accuracy:\",metrics.accuracy_score(y_test, y_pred_b))\n",
    "auc = roc_auc_score(y_test, y_pred_b)\n",
    "print(auc)"
   ]
  },
  {
   "cell_type": "code",
   "execution_count": 654,
   "metadata": {},
   "outputs": [
    {
     "name": "stdout",
     "output_type": "stream",
     "text": [
      "[0.73633795 0.99916443 0.99918166 0.9992075  0.9993281  0.99926778\n",
      " 0.99911273 0.99917303 0.99919887 0.99937116]\n",
      "0.9729343190055193\n"
     ]
    }
   ],
   "source": [
    "# applying cross validation for evaluating estimator performance\n",
    "from sklearn.model_selection import cross_val_score \n",
    "\n",
    "scores_2 = cross_val_score(forest_b, X_resampled, y_resampled, cv=10, scoring='accuracy')\n",
    "\n",
    "\n",
    "print(scores_2)\n",
    "print(scores_2.mean())"
   ]
  },
  {
   "cell_type": "code",
   "execution_count": 645,
   "metadata": {},
   "outputs": [
    {
     "name": "stdout",
     "output_type": "stream",
     "text": [
      "Fitting 5 folds for each of 10 candidates, totalling 50 fits\n"
     ]
    },
    {
     "name": "stderr",
     "output_type": "stream",
     "text": [
      "[Parallel(n_jobs=-1)]: Using backend LokyBackend with 4 concurrent workers.\n",
      "[Parallel(n_jobs=-1)]: Done  33 tasks      | elapsed:  4.4min\n",
      "[Parallel(n_jobs=-1)]: Done  50 out of  50 | elapsed:  6.7min finished\n"
     ]
    },
    {
     "name": "stdout",
     "output_type": "stream",
     "text": [
      "{'n_estimators': 1678, 'max_features': 'auto', 'max_depth': 420}\n",
      "0.800080657151538\n"
     ]
    }
   ],
   "source": [
    "## Random Hyperparameter Grid\n",
    "import numpy as np\n",
    "from sklearn.model_selection import RandomizedSearchCV\n",
    "n_estimators = [int(x) for x in np.linspace(start = 500, stop = 2000, num = 15)]\n",
    "\n",
    "max_depth = [int(x) for x in np.linspace(100, 500, num = 11)]\n",
    "max_depth.append(None)\n",
    "\n",
    "max_features = ['auto','sqrt']\n",
    "\n",
    "grid_param = {\n",
    "    'n_estimators': n_estimators,\n",
    "    'max_depth': max_depth, \n",
    "    'max_features': max_features,\n",
    "\n",
    "}\n",
    "\n",
    "# Random search of parameters\n",
    "rf_random = RandomizedSearchCV(estimator = forest_b, \n",
    "                               param_distributions = grid_param, \n",
    "                               cv = 5, \n",
    "                               verbose=2, \n",
    "                               scoring = 'roc_auc',\n",
    "                               random_state=123, \n",
    "                               n_jobs = -1)\n",
    "# Fit the model\n",
    "rf_random.fit(X_train_b, y_train_b)\n",
    "# print results\n",
    "print(rf_random.best_params_)\n",
    "\n",
    "best_result = rf_random.best_score_\n",
    "print(best_result)"
   ]
  },
  {
   "cell_type": "code",
   "execution_count": 646,
   "metadata": {},
   "outputs": [
    {
     "name": "stdout",
     "output_type": "stream",
     "text": [
      "0.9969211991920811\n"
     ]
    },
    {
     "data": {
      "image/png": "[encoded data removed]",
      "text/plain": [
       "<Figure size 432x288 with 1 Axes>"
      ]
     },
     "metadata": {
      "needs_background": "light"
     },
     "output_type": "display_data"
    }
   ],
   "source": [
    "#auc graph for basic rf\n",
    "fpr_xg, tpr_xg, thresholds = metrics.roc_curve(y_test, y_pred_b)\n",
    "print(metrics.auc(fpr_xg, tpr_xg))\n",
    "auc_xgb = np.trapz(tpr_xg,fpr_xg)\n",
    "plt.plot(fpr_xg,tpr_xg,label=\" auc=\"+str(auc_xgb))\n",
    "plt.legend(loc=4)\n",
    "plt.show()\n",
    "\n"
   ]
  },
  {
   "cell_type": "code",
   "execution_count": 647,
   "metadata": {},
   "outputs": [
    {
     "data": {
      "text/plain": [
       "XGBClassifier(base_score=0.5, booster='gbtree', colsample_bylevel=1,\n",
       "              colsample_bynode=1, colsample_bytree=1, gamma=0,\n",
       "              learning_rate=0.5, max_delta_step=0, max_depth=3,\n",
       "              max_features='sqrt', min_child_weight=1, missing=None,\n",
       "              n_estimators=100, n_jobs=1, nthread=None,\n",
       "              objective='binary:logistic', random_state=10, reg_alpha=0,\n",
       "              reg_lambda=1, scale_pos_weight=1, seed=None, silent=None,\n",
       "              subsample=0.8, verbosity=1)"
      ]
     },
     "execution_count": 647,
     "metadata": {},
     "output_type": "execute_result"
    }
   ],
   "source": [
    "#final model try xgboost\n",
    "import xgboost\n",
    "gbm=xgboost.XGBClassifier(max_features='sqrt', subsample=0.8, random_state=10)\n",
    "\n",
    "from sklearn.model_selection import GridSearchCV\n",
    "parameters = [{'n_estimators': [10, 100]},\n",
    "              {'learning_rate': [0.1, 0.01, 0.5]}]\n",
    "\n",
    "grid_search = GridSearchCV(estimator = gbm, param_grid = parameters, scoring='roc_auc', cv = 3, n_jobs=-1)\n",
    "grid_search = grid_search.fit(X_train, y_train)\n",
    "\n",
    "import warnings\n",
    "warnings.filterwarnings(\"ignore\")\n",
    "\n",
    "grid_search.cv_results_, grid_search.best_params_, grid_search.best_score_\n",
    "\n",
    "grid_search.best_estimator_"
   ]
  },
  {
   "cell_type": "code",
   "execution_count": 648,
   "metadata": {},
   "outputs": [],
   "source": [
    "gbm=xgboost.XGBClassifier(base_score=0.5, booster='gbtree', colsample_bylevel=1,\n",
    "              colsample_bynode=1, colsample_bytree=1, gamma=0,\n",
    "              learning_rate=0.5, max_delta_step=0, max_depth=3,\n",
    "              max_features='sqrt', min_child_weight=1, missing=None,\n",
    "              n_estimators=100, n_jobs=1, nthread=None,\n",
    "              objective='binary:logistic', random_state=10, reg_alpha=0,\n",
    "              reg_lambda=1, scale_pos_weight=1, seed=None, silent=None,\n",
    "              subsample=0.8, verbosity=1).fit(X_train, y_train)"
   ]
  },
  {
   "cell_type": "code",
   "execution_count": 649,
   "metadata": {},
   "outputs": [],
   "source": [
    "y_pred = gbm.predict(X_test)"
   ]
  },
  {
   "cell_type": "code",
   "execution_count": 650,
   "metadata": {},
   "outputs": [
    {
     "name": "stdout",
     "output_type": "stream",
     "text": [
      "[[163983  15938]\n",
      " [  4061 164279]]\n",
      "              precision    recall  f1-score   support\n",
      "\n",
      "           0       0.98      0.91      0.94    179921\n",
      "           1       0.91      0.98      0.94    168340\n",
      "\n",
      "    accuracy                           0.94    348261\n",
      "   macro avg       0.94      0.94      0.94    348261\n",
      "weighted avg       0.94      0.94      0.94    348261\n",
      "\n"
     ]
    }
   ],
   "source": [
    "print(confusion_matrix(y_test, y_pred))\n",
    "print(classification_report(y_test, y_pred))"
   ]
  },
  {
   "cell_type": "code",
   "execution_count": 651,
   "metadata": {},
   "outputs": [
    {
     "name": "stdout",
     "output_type": "stream",
     "text": [
      "[0.90111058 0.98665716 0.98557906 0.98399573 0.98685953]\n",
      "0.9688404086646404\n"
     ]
    }
   ],
   "source": [
    "# applying cross validation for evaluating estimator performance\n",
    "from sklearn.model_selection import cross_val_score \n",
    "\n",
    "scores_3 = cross_val_score(gbm, X_resampled, y_resampled, cv=5, scoring='roc_auc')\n",
    "\n",
    "\n",
    "print(scores_3)\n",
    "print(scores_3.mean())"
   ]
  },
  {
   "cell_type": "code",
   "execution_count": 652,
   "metadata": {},
   "outputs": [
    {
     "data": {
      "text/plain": [
       "0.9436464401210733"
      ]
     },
     "execution_count": 652,
     "metadata": {},
     "output_type": "execute_result"
    }
   ],
   "source": [
    "from sklearn.metrics import roc_auc_score\n",
    "roc_auc_score(y_test, y_pred)"
   ]
  },
  {
   "cell_type": "code",
   "execution_count": 653,
   "metadata": {},
   "outputs": [
    {
     "name": "stdout",
     "output_type": "stream",
     "text": [
      "0.9436464401210733\n"
     ]
    },
    {
     "data": {
      "image/png": "[encoded data removed]",
      "text/plain": [
       "<Figure size 432x288 with 1 Axes>"
      ]
     },
     "metadata": {
      "needs_background": "light"
     },
     "output_type": "display_data"
    }
   ],
   "source": [
    "from sklearn import metrics\n",
    "import matplotlib.pyplot as plt\n",
    "\n",
    "fpr_xg, tpr_xg, thresholds = metrics.roc_curve(y_test, y_pred)\n",
    "print(metrics.auc(fpr_xg, tpr_xg))\n",
    "auc_xgb = np.trapz(tpr_xg,fpr_xg)\n",
    "plt.plot(fpr_xg,tpr_xg,label=\" auc=\"+str(auc_xgb))\n",
    "plt.legend(loc=4)\n",
    "plt.show()\n",
    "\n",
    "# The ROC graph shows that 55% of the area is under the curve."
   ]
  }
 ],
 "metadata": {
  "kernelspec": {
   "display_name": "Python 3",
   "language": "python",
   "name": "python3"
  },
  "language_info": {
   "codemirror_mode": {
    "name": "ipython",
    "version": 3
   },
   "file_extension": ".py",
   "mimetype": "text/x-python",
   "name": "python",
   "nbconvert_exporter": "python",
   "pygments_lexer": "ipython3",
   "version": "3.7.3"
  }
 },
 "nbformat": 4,
 "nbformat_minor": 2
}
